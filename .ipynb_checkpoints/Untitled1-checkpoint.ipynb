{
 "cells": [
  {
   "cell_type": "code",
   "execution_count": null,
   "id": "5da55ce3-9873-412b-8c31-085b531f7c0d",
   "metadata": {},
   "outputs": [],
   "source": [
    "import numpy as np\n",
    "from PIL import Image\n",
    "\n",
    "# Read the hex data from the file\n",
    "with open('cap2.txt', 'r') as file:\n",
    "    hex_data = file.read()\n",
    "\n",
    "# Removing any newline or whitespace characters\n",
    "hex_data = hex_data.replace('\\n', '').replace(' ', '')\n",
    "\n",
    "# Define image dimensions\n",
    "width, height = 176, 144\n",
    "\n",
    "# Convert hex string to list of integers\n",
    "pixels = []\n",
    "for i in range(0, len(hex_data), 4):\n",
    "    pixel = int(hex_data[i:i+4], 16)\n",
    "    pixels.append(pixel)\n",
    "\n",
    "# Convert to numpy array\n",
    "pixels = np.array(pixels, dtype=np.uint16).reshape((height, width))\n",
    "\n",
    "def rgb565_to_rgb888(pixel):\n",
    "    r = (pixel >> 11) & 0x1F\n",
    "    g = (pixel >> 5) & 0x3F\n",
    "    b = pixel & 0x1F\n",
    "    # Scale the values to 8-bit\n",
    "    r = (r << 3) | (r >> 2)\n",
    "    g = (g << 2) | (g >> 4)\n",
    "    b = (b << 3) | (b >> 2)\n",
    "    return r, g, b\n",
    "\n",
    "# Create an empty image array\n",
    "image = np.zeros((height, width, 3), dtype=np.uint8)\n",
    "\n",
    "# Fill the image array with RGB values\n",
    "for y in range(height):\n",
    "    for x in range(width):\n",
    "        image[y, x] = rgb565_to_rgb888(pixels[y, x])\n",
    "\n",
    "# Convert the numpy array to an image\n",
    "img = Image.fromarray(image)\n",
    "\n",
    "# Save the image\n",
    "img.save('output_image.png')\n",
    "\n",
    "# Display the image\n",
    "img.show()\n"
   ]
  }
 ],
 "metadata": {
  "kernelspec": {
   "display_name": "Python 3 (ipykernel)",
   "language": "python",
   "name": "python3"
  },
  "language_info": {
   "codemirror_mode": {
    "name": "ipython",
    "version": 3
   },
   "file_extension": ".py",
   "mimetype": "text/x-python",
   "name": "python",
   "nbconvert_exporter": "python",
   "pygments_lexer": "ipython3",
   "version": "3.9.6"
  }
 },
 "nbformat": 4,
 "nbformat_minor": 5
}
