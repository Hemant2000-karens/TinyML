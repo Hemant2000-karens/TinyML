{
 "cells": [
  {
   "cell_type": "markdown",
   "metadata": {
    "id": "SfhF5BUcomZP"
   },
   "source": [
    "\n",
    "---\n",
    "\n",
    "\n",
    "Before starting, you must click on the \"Copy To Drive\" option in the top bar. Go to File --> Save a Copy to Drive. Name it *'LastName_FirstName_T1.1.ipynb'*. <ins>This is the master notebook so you will not be able to save your changes without copying it !</ins> Once you click on that, make sure you are working on that version of the notebook so that your work is saved.\n",
    "\n",
    "\n",
    "\n",
    "---"
   ]
  },
  {
   "cell_type": "markdown",
   "metadata": {
    "id": "DUtcejBhPRi3"
   },
   "source": [
    "### In this Colab notebook we explore loss - in particular, Root Mean Squared Error (RMSE) Loss for a Regression problem. We also train a basic Machine Learning model using Gradient Descent to fit our data better and consequently minimize the loss.\n"
   ]
  },
  {
   "cell_type": "markdown",
   "metadata": {
    "id": "-TiTRaOfOlIq"
   },
   "source": [
    "## 1.Exploring Loss"
   ]
  },
  {
   "cell_type": "markdown",
   "metadata": {
    "id": "SQxFbTjb1RRf"
   },
   "source": [
    "In this section, we define a Linear Regression problem of the form Y = wX + b. We are provided with data (xs and ys) using which we need to infer the relationship between x and y i.e., arrive at the accurate values of weight (w) and bias (b)."
   ]
  },
  {
   "cell_type": "markdown",
   "metadata": {
    "id": "Oo4qroNybu_H"
   },
   "source": [
    "\n",
    "\n",
    "---\n",
    "\n",
    "\n",
    "**Question 1**: It is said that in linear regression, we try to find the best fit line. Can you think of why?\n",
    "\n",
    "**Answer:**\n",
    "\n",
    "---\n",
    "\n"
   ]
  },
  {
   "cell_type": "markdown",
   "metadata": {
    "id": "Rr3SfU1pOHji"
   },
   "source": [
    "We import two libraries -\n",
    "\n",
    "\n",
    "1.   [math](https://docs.python.org/3/library/math.html) - basic mathematical operations. eg: square root, power etc.\n",
    "2.   [matplotlib](https://matplotlib.org/) - visualization of data in Python\n",
    "\n"
   ]
  },
  {
   "cell_type": "code",
   "execution_count": 8,
   "metadata": {
    "id": "ULRbhByH_g6G"
   },
   "outputs": [],
   "source": [
    "# import libraries\n",
    "import math\n",
    "import matplotlib.pyplot as plt"
   ]
  },
  {
   "cell_type": "markdown",
   "metadata": {
    "id": "mzT77SGLNmzq"
   },
   "source": [
    "The below cell computes the predicted Y values for your guess of w and b. Simply change their values and explore how the output and subsequently the loss changes."
   ]
  },
  {
   "cell_type": "markdown",
   "metadata": {
    "id": "3vI1oUZPL1QL"
   },
   "source": [
    "---\n",
    "\n",
    "\n",
    "**Question 2**: Report the loss for three different values of 'w' and 'b'. (Run the below three cells for each example)\n",
    "\n",
    "**Answer:**\n",
    "\n",
    "\n",
    "1.   w = , b = , loss =\n",
    "2.   w = , b = , loss =\n",
    "3.   w = , b = , loss =\n",
    "\n",
    "\n",
    "\n",
    "---"
   ]
  },
  {
   "cell_type": "code",
   "execution_count": 9,
   "metadata": {
    "colab": {
     "base_uri": "https://localhost:8080/"
    },
    "id": "PwrR2q7tZKPi",
    "outputId": "5abb5ef8-c87b-44ba-ce2f-0a5df818635a"
   },
   "outputs": [
    {
     "name": "stdout",
     "output_type": "stream",
     "text": [
      "Real Y is [-3, -1, 1, 3, 5, 7]\n",
      "My Y is   [-3, -1, 1, 3, 5, 7]\n"
     ]
    }
   ],
   "source": [
    "# Edit these parameters w and b to try different loss\n",
    "# measurements. Rerun this cell when done\n",
    "# Your Y will be calculated as Y = wX + b, so\n",
    "# if w = 3, and b = -1, then Y = 3x - 1\n",
    "\n",
    "w = 2# < YOUR CODE HERE >\n",
    "b = -1# < YOUR CODE HERE >\n",
    "\n",
    "x = [-1, 0, 1, 2, 3, 4]\n",
    "y = [-3, -1, 1, 3, 5, 7]     # ground truth for w = 2, b = -1, i.e, Y = 2x - 1\n",
    "myY = []\n",
    "\n",
    "\n",
    "for thisX in x:              # predicted Ys based on your parameters\n",
    "  thisY = (w*thisX)+b\n",
    "  myY.append(thisY)\n",
    "\n",
    "print(\"Real Y is \" + str(y))\n",
    "print(\"My Y is   \" + str(myY))"
   ]
  },
  {
   "cell_type": "markdown",
   "metadata": {
    "id": "2759rVV6CjFY"
   },
   "source": [
    "Before we move on to calculating the loss, lets visualize the difference between the actual Y and predicted Y values. In the below scatter plot, the *blue dots* represent the actual Y values, the *green dots* represent the predicted Y values and the *red dashed lines* represent the difference between the two for each individual data sample.\n",
    "\n",
    "You can read more about matplotlib scatter plots [here](https://matplotlib.org/stable/api/_as_gen/matplotlib.pyplot.scatter.html)."
   ]
  },
  {
   "cell_type": "code",
   "execution_count": 10,
   "metadata": {
    "colab": {
     "base_uri": "https://localhost:8080/",
     "height": 265
    },
    "id": "JJxSeN1B-fL8",
    "outputId": "cda8dbff-21c5-46b8-cf9d-702a0f79d64f"
   },
   "outputs": [
    {
     "data": {
      "image/png": "[encoded data removed]",
      "text/plain": [
       "<Figure size 640x480 with 1 Axes>"
      ]
     },
     "metadata": {},
     "output_type": "display_data"
    }
   ],
   "source": [
    "# visualize loss/errors\n",
    "plt.scatter(x, y, color='blue')                  # ground truth\n",
    "plt.scatter(x, myY, color='green')               # predicted\n",
    "plt.vlines(x, ymin=min(y,myY), ymax=max(y,myY), color=\"red\", linestyle='--', alpha=0.3)\n",
    "plt.show()"
   ]
  },
  {
   "cell_type": "markdown",
   "metadata": {
    "id": "9Py5d35ZM_KY"
   },
   "source": [
    "---\n",
    "\n",
    "\n",
    "**Question 3**: What do the 2nd and 3rd parameters of the `plt.vlines()` API signify?\n",
    "\n",
    "**Answer:**\n",
    "\n",
    "---"
   ]
  },
  {
   "cell_type": "markdown",
   "metadata": {
    "id": "2oUxMYFcFe6e"
   },
   "source": [
    "We could just take the average of the differences between the actual and predicted Ys (errors) to calculate the loss of the system. However, the presence of negative errors would cause the errors to cancel out, not giving an accurate representation of the loss. Therefore, the smart thing to do here is to square each error amount, average out all the individual squared errors, and then take the square root of that - **RMSE Loss**\n",
    "\n",
    "**Note:** Some other measures are Mean Squared Error (MSE) Loss and Mean Absolute Error (MAE) Loss."
   ]
  },
  {
   "cell_type": "code",
   "execution_count": 11,
   "metadata": {
    "id": "MUOgz0NoChZG"
   },
   "outputs": [
    {
     "name": "stdout",
     "output_type": "stream",
     "text": [
      "My loss is: 0.0\n"
     ]
    }
   ],
   "source": [
    "# let's calculate the loss\n",
    "total_square_error = 0\n",
    "size = len(y)\n",
    "for i in range(0, size):\n",
    "  square_error = (y[i] - myY[i]) ** 2\n",
    "  total_square_error += square_error\n",
    "\n",
    "total_square_error /= size\n",
    "\n",
    "print(\"My loss is: \" + str(math.sqrt(total_square_error)))"
   ]
  },
  {
   "cell_type": "markdown",
   "metadata": {
    "id": "YZqMW2IHvqXR"
   },
   "source": [
    "## 2. Minimizing Loss"
   ]
  },
  {
   "cell_type": "markdown",
   "metadata": {
    "id": "LOr5Jm5TwZKr"
   },
   "source": [
    "In this section we attempt to iteratively minimize the loss function of our regression model by training the model on given data over multiple epochs."
   ]
  },
  {
   "cell_type": "markdown",
   "metadata": {
    "id": "sGS5IutpPhGP"
   },
   "source": [
    "We import the following libraries -\n",
    "\n",
    "\n",
    "1.   [tensorflow](https://www.tensorflow.org/) - open source library to develop and train ML models\n",
    "2.   [numpy](https://numpy.org/) - scientific computing in Python\n",
    "3.   [matplotlib](https://matplotlib.org/) - visualization of data in Python\n",
    "\n"
   ]
  },
  {
   "cell_type": "code",
   "execution_count": 12,
   "metadata": {
    "colab": {
     "base_uri": "https://localhost:8080/"
    },
    "id": "l8uQAtpf_smh",
    "outputId": "47ef6b9a-0827-4b34-a78e-991d1d4485ef"
   },
   "outputs": [],
   "source": [
    "try:\n",
    "  # %tensorflow_version only exists in Colab.\n",
    "  %tensorflow_version 2.x\n",
    "except Exception:\n",
    "  pass\n",
    "\n",
    "\n",
    "import tensorflow as tf\n",
    "import numpy as np\n",
    "import matplotlib.pyplot as plt"
   ]
  },
  {
   "cell_type": "markdown",
   "metadata": {
    "id": "FDgvPAZZQt2e"
   },
   "source": [
    "To train our Linear Regression Model, we need to first define our (i) ML Model, (ii) Loss Function, and the (iii) Training Procedure."
   ]
  },
  {
   "cell_type": "markdown",
   "metadata": {
    "id": "SLCbfuwWSTSx"
   },
   "source": [
    "### Linear Regression Model\n",
    "\n",
    "The model represents the function Y = wX + b. Therefore, the model outputs a value of Y for a given w, b, and X when it is called."
   ]
  },
  {
   "cell_type": "code",
   "execution_count": 13,
   "metadata": {
    "id": "JOKXLdtQYAn9"
   },
   "outputs": [],
   "source": [
    "# Define our initial guess\n",
    "INITIAL_W = 10.0\n",
    "INITIAL_B = 10.0\n",
    "\n",
    "# Define our simple regression model\n",
    "class Model(object):\n",
    "  def __init__(self):\n",
    "    # Initialize the weights\n",
    "    self.w = tf.Variable(INITIAL_W)\n",
    "    self.b = tf.Variable(INITIAL_B)\n",
    "\n",
    "  def __call__(self, x):\n",
    "    return self.w*x +self.b# <YOUR CODE HERE> #"
   ]
  },
  {
   "cell_type": "markdown",
   "metadata": {
    "id": "yaSBNf3JN9PM"
   },
   "source": [
    "***Hint:*** Given X, the `__call__()` class method should return Y. We know Y = wX + b. Therefore, return `self.w * x + self.b`"
   ]
  },
  {
   "cell_type": "markdown",
   "metadata": {
    "id": "qZyKjNZkbMXp"
   },
   "source": [
    "### Loss Function\n",
    "\n",
    "We then define our loss function which returns the Mean Squared Error (MSE) Loss.\n",
    "\n",
    "The tensorflow API `tf.reduce_mean()` computes the mean of the input tensor. It reduces the input tensor along the specified axis. Read more [here](https://www.tensorflow.org/api_docs/python/tf/math/reduce_mean)."
   ]
  },
  {
   "cell_type": "code",
   "execution_count": 14,
   "metadata": {
    "id": "jY0OplVNbWHx"
   },
   "outputs": [],
   "source": [
    "# Define our loss function\n",
    "def loss(predicted_y, target_y):\n",
    "  return tf.reduce_mean(tf.square(predicted_y - target_y))"
   ]
  },
  {
   "cell_type": "markdown",
   "metadata": {
    "id": "cJj1cxFadTDy"
   },
   "source": [
    "### Training Procedure\n",
    "\n",
    "Here, Gradient Descent optimization is used for the training procedure. We define a train function which performs one step of **Gradient Descent** on all data samples in our dataset (i.e., all Xs and Ys). The Gradient Descent Optimization Algorithm involves:\n",
    "\n",
    "1.   the calculation of the loss function\n",
    "2.   the derivatves of the loss function w.r.t the individual parameters (w and b here)\n",
    "3.   updation of model parameters with the calculated derivatives\n",
    "\n",
    "You can read more about the math behind Gradient Descent [here](https://towardsdatascience.com/understanding-the-mathematics-behind-gradient-descent-dde5dc9be06es://). It is however beyond the scope of the course."
   ]
  },
  {
   "cell_type": "markdown",
   "metadata": {
    "id": "aDxqkMRskxx4"
   },
   "source": [
    "**TensorFlow API Gradient Tape** -\n",
    "\n",
    "The Calculus is managed by a TensorFlow Gradient Tape. You can learn more about the gradient tape at https://www.tensorflow.org/api_docs/python/tf/GradientTape"
   ]
  },
  {
   "cell_type": "code",
   "execution_count": 15,
   "metadata": {
    "editable": true,
    "id": "9fLQyjzVv4u3",
    "slideshow": {
     "slide_type": ""
    },
    "tags": []
   },
   "outputs": [],
   "source": [
    "# Define our training procedure\n",
    "def train(model, inputs, outputs, learning_rate):\n",
    "  with tf.GradientTape() as t:\n",
    "    # loss function\n",
    "    current_loss = loss(model(inputs), outputs)\n",
    "\n",
    "    # Here is where you differentiate loss function w.r.t model parameters\n",
    "    dw, db = t.gradient(current_loss, [model.w, model.b])      # dloss/dw, dloss/db\n",
    "\n",
    "    # And here is where you update the model parameters based on the learning rate chosen\n",
    "    model.w.assign_sub(learning_rate * dw)   # model.w = model.w - learning_rate*dw\n",
    "    # <YOUR CODE HERE>   # model.b = model.b - learning_rate*db\n",
    "    return current_loss"
   ]
  },
  {
   "cell_type": "markdown",
   "metadata": {
    "id": "-1qR8Ly_SA7I"
   },
   "source": [
    "---\n",
    "\n",
    "\n",
    "**Question 4**: In the above example, before we train our model, what are the three things that we need to define?\n",
    "\n",
    "**Answer:**\n",
    "\n",
    "---"
   ]
  },
  {
   "cell_type": "markdown",
   "metadata": {
    "id": "t9OVMTeQwIYy"
   },
   "source": [
    "### Train Model\n",
    "\n",
    "Now that we have defined the above individual functions, its time to put them together.\n",
    "\n",
    "We first define our dataset, then instantiate our model. We then train our model over multiple epochs. For each epoch, we calculate and store the parameter values (w and b) and the loss."
   ]
  },
  {
   "cell_type": "markdown",
   "metadata": {
    "id": "PktVRvVFTWQC"
   },
   "source": [
    "Notice the decrease in loss as we go through more epochs."
   ]
  },
  {
   "cell_type": "code",
   "execution_count": 16,
   "metadata": {
    "id": "NCPlW9FpwFgV"
   },
   "outputs": [
    {
     "name": "stdout",
     "output_type": "stream",
     "text": [
      "Epoch  0: w=10.00 b=10.00, loss=715.66669\n",
      "Epoch  1: w=-6.19 b=10.00, loss=197.46208\n",
      "Epoch  2: w=1.04 b=10.00, loss=94.07443\n",
      "Epoch  3: w=-2.19 b=10.00, loss=73.44746\n",
      "Epoch  4: w=-0.75 b=10.00, loss=69.33213\n",
      "Epoch  5: w=-1.39 b=10.00, loss=68.51109\n",
      "Epoch  6: w=-1.10 b=10.00, loss=68.34727\n",
      "Epoch  7: w=-1.23 b=10.00, loss=68.31459\n",
      "Epoch  8: w=-1.18 b=10.00, loss=68.30807\n",
      "Epoch  9: w=-1.20 b=10.00, loss=68.30678\n",
      "Epoch 10: w=-1.19 b=10.00, loss=68.30651\n",
      "Epoch 11: w=-1.20 b=10.00, loss=68.30647\n",
      "Epoch 12: w=-1.19 b=10.00, loss=68.30646\n",
      "Epoch 13: w=-1.19 b=10.00, loss=68.30645\n",
      "Epoch 14: w=-1.19 b=10.00, loss=68.30645\n",
      "Epoch 15: w=-1.19 b=10.00, loss=68.30645\n",
      "Epoch 16: w=-1.19 b=10.00, loss=68.30645\n",
      "Epoch 17: w=-1.19 b=10.00, loss=68.30645\n",
      "Epoch 18: w=-1.19 b=10.00, loss=68.30646\n",
      "Epoch 19: w=-1.19 b=10.00, loss=68.30646\n",
      "Epoch 20: w=-1.19 b=10.00, loss=68.30645\n",
      "Epoch 21: w=-1.19 b=10.00, loss=68.30645\n",
      "Epoch 22: w=-1.19 b=10.00, loss=68.30645\n",
      "Epoch 23: w=-1.19 b=10.00, loss=68.30645\n",
      "Epoch 24: w=-1.19 b=10.00, loss=68.30645\n",
      "Epoch 25: w=-1.19 b=10.00, loss=68.30645\n",
      "Epoch 26: w=-1.19 b=10.00, loss=68.30645\n",
      "Epoch 27: w=-1.19 b=10.00, loss=68.30645\n",
      "Epoch 28: w=-1.19 b=10.00, loss=68.30645\n",
      "Epoch 29: w=-1.19 b=10.00, loss=68.30645\n",
      "Epoch 30: w=-1.19 b=10.00, loss=68.30645\n",
      "Epoch 31: w=-1.19 b=10.00, loss=68.30645\n",
      "Epoch 32: w=-1.19 b=10.00, loss=68.30645\n",
      "Epoch 33: w=-1.19 b=10.00, loss=68.30645\n",
      "Epoch 34: w=-1.19 b=10.00, loss=68.30645\n",
      "Epoch 35: w=-1.19 b=10.00, loss=68.30645\n",
      "Epoch 36: w=-1.19 b=10.00, loss=68.30645\n",
      "Epoch 37: w=-1.19 b=10.00, loss=68.30645\n",
      "Epoch 38: w=-1.19 b=10.00, loss=68.30645\n",
      "Epoch 39: w=-1.19 b=10.00, loss=68.30645\n",
      "Epoch 40: w=-1.19 b=10.00, loss=68.30645\n",
      "Epoch 41: w=-1.19 b=10.00, loss=68.30645\n",
      "Epoch 42: w=-1.19 b=10.00, loss=68.30645\n",
      "Epoch 43: w=-1.19 b=10.00, loss=68.30645\n",
      "Epoch 44: w=-1.19 b=10.00, loss=68.30645\n",
      "Epoch 45: w=-1.19 b=10.00, loss=68.30645\n",
      "Epoch 46: w=-1.19 b=10.00, loss=68.30645\n",
      "Epoch 47: w=-1.19 b=10.00, loss=68.30645\n",
      "Epoch 48: w=-1.19 b=10.00, loss=68.30645\n",
      "Epoch 49: w=-1.19 b=10.00, loss=68.30645\n"
     ]
    }
   ],
   "source": [
    "# Define our input data and learning rate\n",
    "xs = [-1.0, 0.0, 1.0, 2.0, 3.0, 4.0]\n",
    "ys = [-3.0, -1.0, 1.0, 3.0, 5.0, 7.0]\n",
    "LEARNING_RATE = 0.14   #0.09\n",
    "\n",
    "# Instantiate our model\n",
    "model = Model()\n",
    "\n",
    "# Collect the history of w-values and b-values to plot later\n",
    "list_w, list_b = [], []\n",
    "epochs = 50\n",
    "losses = []\n",
    "\n",
    "for epoch in range(epochs):\n",
    "  list_w.append(model.w.numpy())\n",
    "  list_b.append(model.b.numpy())\n",
    "  current_loss = train(model, xs, ys, learning_rate=LEARNING_RATE)\n",
    "  losses.append(current_loss)\n",
    "  print('Epoch %2d: w=%1.2f b=%1.2f, loss=%2.5f' %\n",
    "        (epoch, list_w[-1], list_b[-1], current_loss))"
   ]
  },
  {
   "cell_type": "markdown",
   "metadata": {
    "id": "6afLtlyRwR-x"
   },
   "source": [
    "### Plot our trained values over time\n",
    "\n",
    "Below is a plot of the model parameter values w and b (y-axis) across all the epochs (x-axis). As the model is trained, notice how the values of w and b eventually converge to the true values 2.0 and -1.0 respectively."
   ]
  },
  {
   "cell_type": "code",
   "execution_count": 17,
   "metadata": {
    "id": "50uecDpHwPGV"
   },
   "outputs": [
    {
     "data": {
      "image/png": "[encoded data removed]",
      "text/plain": [
       "<Figure size 640x480 with 1 Axes>"
      ]
     },
     "metadata": {},
     "output_type": "display_data"
    }
   ],
   "source": [
    "# Plot the w-values and b-values for each training Epoch against the true values\n",
    "TRUE_w = 2.0\n",
    "TRUE_b = -1.0\n",
    "xaxis = range(epochs)\n",
    "plt.plot(xaxis, list_w, 'r', xaxis, list_b, 'b')\n",
    "plt.plot([TRUE_w] * epochs, 'r--', [TRUE_b] * epochs, 'b--')\n",
    "plt.legend(['w', 'b', 'True w', 'True b'])\n",
    "plt.show()"
   ]
  },
  {
   "cell_type": "markdown",
   "metadata": {
    "editable": true,
    "id": "XcD48DftWR1S",
    "slideshow": {
     "slide_type": ""
    },
    "tags": []
   },
   "source": [
    "---\n",
    "\n",
    "\n",
    "**Question 5**: In the above plot, what do the solid lines and dotted lines signify?\n",
    "\n",
    "**Answer:**\n",
    "\n",
    "---"
   ]
  }
 ],
 "metadata": {
  "colab": {
   "provenance": []
  },
  "kernelspec": {
   "display_name": "Python 3 (ipykernel)",
   "language": "python",
   "name": "python3"
  },
  "language_info": {
   "codemirror_mode": {
    "name": "ipython",
    "version": 3
   },
   "file_extension": ".py",
   "mimetype": "text/x-python",
   "name": "python",
   "nbconvert_exporter": "python",
   "pygments_lexer": "ipython3",
   "version": "3.9.6"
  }
 },
 "nbformat": 4,
 "nbformat_minor": 4
}
